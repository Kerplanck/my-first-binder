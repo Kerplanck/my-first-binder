{
 "cells": [
  {
   "cell_type": "markdown",
   "id": "8b13881b",
   "metadata": {},
   "source": [
    "\n",
    "## Welcome to Yahtzo!!\n",
    "\n",
    "1. Go to Cell at the top of the page and press Run All\n",
    "2. You can enter your name by clicking on Player 1\n",
    "3. To start playing, press roll!\n",
    "4. You have 3 turns to roll your dice and with the Hold On buttons, you can hold onto dice between rolls\n",
    "5. When you finish 3 rolls or you're satisfied with your roll, hit end turn\n",
    "6. Go to the Scoring tab and hit the button you'd like to enter your score in\n",
    "7. you can check your totals or your current hand at any time\n",
    "8. After you've put in your score, you can now hit Next Round to start a new round\n",
    "9. After 13 rounds, the whole score sheet should be filled and the game is over\n",
    "10. To start again, press New Game"
   ]
  },
  {
   "cell_type": "code",
   "execution_count": 1,
   "id": "3278c5a2",
   "metadata": {},
   "outputs": [
    {
     "data": {
      "application/vnd.jupyter.widget-view+json": {
       "model_id": "711a68f23368421393ab4f5899688d02",
       "version_major": 2,
       "version_minor": 0
      },
      "text/plain": [
       "Tab(children=(VBox(children=(Text(value='\\t\\t\\t\\tPlayer 1\\t\\t\\t\\t\\t'), HBox(children=(VBox(children=(Button(de…"
      ]
     },
     "metadata": {},
     "output_type": "display_data"
    }
   ],
   "source": [
    "import numpy as np\n",
    "import ipywidgets as widgets\n",
    "from IPython.display import display\n",
    "from IPython.display import HTML\n",
    "\n",
    "\n",
    "\n",
    "\n",
    "##### Scorings Button/Output Definition #####\n",
    "\n",
    "names = ['ones','twos','threes','fours','fives','sixes','sum','upper section total',\n",
    "         'three of a kind', 'four of a kind', 'full house', 'small straight', 'large straight',\n",
    "         'chance','yahtzo','bonus yahtzo','lower section total','Grand Total']\n",
    "sc_but = [widgets.Button(description=name) for name in names]\n",
    "sc_output = [widgets.Output(layout={'border': '1.0px solid black'}) for name in names]\n",
    "bonus_yaht_output = widgets.Output(layout={'border': '1.0px solid black'})\n",
    "sc_output.append(bonus_yaht_output)\n",
    "\n",
    "##### Important Global Variables #####\n",
    "sc_check = [0,0,0,0,0,0,0,0,0,0,0,0,0,0,0,0,0,0]\n",
    "scores = [0,0,0,0,0,0,0,0,0,0,0,0,0,0,0,0,0,0]\n",
    "\n",
    "Dice_Roll1 = np.array([])\n",
    "Dice_Roll2 = np.array([])\n",
    "Dice_Roll3 = np.array([])\n",
    "Dice_Roll4 = np.array([])\n",
    "Dice_Roll5 = np.array([])\n",
    "i = 0\n",
    "d1 = 0\n",
    "d2 = 0\n",
    "d3 = 0\n",
    "d4 = 0\n",
    "d5 = 0\n",
    "R = 0\n",
    "rnd_check = 0\n",
    "bonus_yaht = False \n",
    "\n",
    "for p in range(len(names)):\n",
    "    with sc_output[p]:\n",
    "        print(f\"\\t \\t\")\n",
    "\n",
    "##### Game Button/Output Definition #####\n",
    "title = widgets.Text(value = f'\\t\\t\\t\\tPlayer {1}\\t\\t\\t\\t\\t')\n",
    "\n",
    "roll = widgets.Button(description=\"Roll\")\n",
    "reset = widgets.Button(description=\"Next Round\")\n",
    "end = widgets.Button(description=\"End Turn\")\n",
    "check = widgets.Button(description=\"Check Hand\")\n",
    "button1 = widgets.Button(description=f\"Hold Dice 1\")\n",
    "button2 = widgets.Button(description=f\"Hold Dice 2\")\n",
    "button3 = widgets.Button(description=f\"Hold Dice 3\")\n",
    "button4 = widgets.Button(description=f\"Hold Dice 4\")\n",
    "button5 = widgets.Button(description=f\"Hold Dice 5\")\n",
    "game_reset =  widgets.Button(description=f\"New Game\")\n",
    "\n",
    "\n",
    "button1.style.button_color = 'WhiteSmoke'\n",
    "button2.style.button_color = 'WhiteSmoke'\n",
    "button3.style.button_color = 'WhiteSmoke'\n",
    "button4.style.button_color = 'WhiteSmoke'\n",
    "button5.style.button_color = 'WhiteSmoke'\n",
    "roll.style.button_color = 'WhiteSmoke'\n",
    "reset.style.button_color = 'WhiteSmoke'\n",
    "end.style.button_color = 'WhiteSmoke'\n",
    "check.style.button_color = 'WhiteSmoke'\n",
    "game_reset.style.button_color = 'WhiteSmoke'\n",
    "\n",
    "\n",
    "output1 = widgets.Output(layout={'border': '0.5px solid black'})\n",
    "output2 = widgets.Output(layout={'border': '0.5px solid black'})\n",
    "output3 = widgets.Output(layout={'border': '0.5px solid black'})\n",
    "output4 = widgets.Output(layout={'border': '0.5px solid black'})\n",
    "output5 = widgets.Output(layout={'border': '0.5px solid black'})\n",
    "output6 = widgets.Output(layout={'border': '0.5px solid black'})\n",
    "output7 = widgets.Output(layout={'border': '0.5px solid black'})\n",
    "output8 = widgets.Output(layout={'border': '0.5px solid black'})\n",
    "rnd = widgets.Output(layout={'border': '0.5px solid black'})\n",
    "end_turn_info = widgets.Output(layout={'border': '1.0px solid black'})\n",
    "\n",
    "\n",
    "\n",
    "\n",
    "\n",
    "##### Game Functions #####\n",
    "\n",
    "def roll_func(b):\n",
    "    global i\n",
    "    global d1,d2,d3,d4,d5\n",
    "    global Dice_Roll1,Dice_Roll2,Dice_Roll3,Dice_Roll4,Dice_Roll5\n",
    "\n",
    "    if i < 3:\n",
    "        if(d1 == 0):  #only increment if not held\n",
    "            with output1:\n",
    "                output1.clear_output()\n",
    "                Dice_Roll1 = np.random.randint(1,7,1)\n",
    "                print(f\"\\t{Dice_Roll1[0]}\\t\")\n",
    "        if(d2 == 0):\n",
    "            with output2:\n",
    "                output2.clear_output()\n",
    "                Dice_Roll2 = np.random.randint(1,7,1)\n",
    "                print(f\"\\t{Dice_Roll2[0]}\\t\")\n",
    "        if(d3 == 0):\n",
    "            with output3:\n",
    "                output3.clear_output()\n",
    "                Dice_Roll3 = np.random.randint(1,7,1)\n",
    "                print(f\"\\t{Dice_Roll3[0]}\\t\")\n",
    "        if(d4 == 0):\n",
    "            with output4:\n",
    "                output4.clear_output()\n",
    "                Dice_Roll4 = np.random.randint(1,7,1)\n",
    "                print(f\"\\t{Dice_Roll4[0]}\\t\")\n",
    "        if(d5 == 0):   \n",
    "            with output5:\n",
    "                output5.clear_output()\n",
    "                Dice_Roll5 = np.random.randint(1,7,1)\n",
    "                print(f\"\\t{Dice_Roll5[0]}\\t\")\n",
    "        output6.clear_output()\n",
    "        i = i + 1\n",
    "    if i>=3:\n",
    "        with output6:\n",
    "            output6.clear_output()\n",
    "            print(\"Turn Over\")\n",
    "    with output8:\n",
    "        output8.clear_output()\n",
    "        print(f\"Roll: {i}\")\n",
    "    output7.clear_output()\n",
    "\n",
    "def reset_func(b):\n",
    "    global i,d1,d2,d3,d4,d5,R,rnd_check\n",
    "    if rnd_check == (R + 1) and R < 13:\n",
    "        #only resets to next round if a score has been marked\n",
    "        i = 0\n",
    "        d1 = 0\n",
    "        d2 = 0\n",
    "        d3 = 0\n",
    "        d4 = 0\n",
    "        d5 = 0\n",
    "        output1.clear_output()\n",
    "        output2.clear_output()\n",
    "        output3.clear_output()\n",
    "        output4.clear_output()\n",
    "        output5.clear_output()\n",
    "        output6.clear_output()\n",
    "        output7.clear_output()\n",
    "        output8.clear_output()\n",
    "        sc_output[18].clear_output()\n",
    "        end_turn_info.clear_output()\n",
    "        button1.style.button_color = 'WhiteSmoke'\n",
    "        button2.style.button_color = 'WhiteSmoke'\n",
    "        button3.style.button_color = 'WhiteSmoke'\n",
    "        button4.style.button_color = 'WhiteSmoke'\n",
    "        button5.style.button_color = 'WhiteSmoke'\n",
    "        with output1:\n",
    "            print(f\"\\t \\t\")\n",
    "        with output2:\n",
    "            print(f\"\\t \\t\")\n",
    "        with output3:\n",
    "            print(f\"\\t \\t\")\n",
    "        with output4:\n",
    "            print(f\"\\t \\t\")\n",
    "        with output5:\n",
    "            print(f\"\\t \\t\")\n",
    "        with rnd:\n",
    "            rnd.clear_output()\n",
    "            R = R + 1\n",
    "            print(f\"Round {R}/13\")\n",
    "        if R == 13:\n",
    "            with rnd:\n",
    "                rnd.clear_output()\n",
    "                print(f\"Game Finished! Press New Game to Start Again\")\n",
    "    elif i < 3:\n",
    "        with output6:\n",
    "            output6.clear_output()\n",
    "            print(\"Press End Turn to End Round Early\")\n",
    "    elif rnd_check == R:\n",
    "        with output6:\n",
    "            output6.clear_output()\n",
    "            print(\"Score Your Round First\")\n",
    "            \n",
    "def game_reset_func(b):\n",
    "    ### reset game variables ###\n",
    "    global names,sc_check,scores,bonus_yaht\n",
    "    global i, rnd_check, R\n",
    "    global d1,d2,d3,d4,d5\n",
    "    global Dice_Roll1,Dice_Roll2,Dice_Roll3,Dice_Roll4,Dice_Roll5\n",
    "    sc_check = [0,0,0,0,0,0,0,0,0,0,0,0,0,0,0,0,0,0]\n",
    "    scores = [0,0,0,0,0,0,0,0,0,0,0,0,0,0,0,0,0,0]\n",
    "\n",
    "    Dice_Roll1 = np.array([])\n",
    "    Dice_Roll2 = np.array([])\n",
    "    Dice_Roll3 = np.array([])\n",
    "    Dice_Roll4 = np.array([])\n",
    "    Dice_Roll5 = np.array([])\n",
    "    i = 0\n",
    "    d1 = 0\n",
    "    d2 = 0\n",
    "    d3 = 0\n",
    "    d4 = 0\n",
    "    d5 = 0\n",
    "    R = 0\n",
    "    rnd_check = 0\n",
    "    bonus_yaht = False\n",
    "    ### reset outputs ###\n",
    "    output1.clear_output()\n",
    "    output2.clear_output()\n",
    "    output3.clear_output()\n",
    "    output4.clear_output()\n",
    "    output5.clear_output()\n",
    "    output6.clear_output()\n",
    "    output7.clear_output()\n",
    "    output8.clear_output()\n",
    "    rnd.clear_output()\n",
    "    end_turn_info.clear_output()\n",
    "    for j in range(0,len(sc_output)):\n",
    "        sc_output[j].clear_output()\n",
    "    button1.style.button_color = 'WhiteSmoke'\n",
    "    button2.style.button_color = 'WhiteSmoke'\n",
    "    button3.style.button_color = 'WhiteSmoke'\n",
    "    button4.style.button_color = 'WhiteSmoke'\n",
    "    button5.style.button_color = 'WhiteSmoke'\n",
    "    with output1:\n",
    "        print(f\"\\t \\t\")\n",
    "    with output2:\n",
    "        print(f\"\\t \\t\")\n",
    "    with output3:\n",
    "        print(f\"\\t \\t\")\n",
    "    with output4:\n",
    "        print(f\"\\t \\t\")\n",
    "    with output5:\n",
    "        print(f\"\\t \\t\")\n",
    "    for p in range(len(names)):\n",
    "        with sc_output[p]:\n",
    "            print(f\"\\t \\t\")\n",
    "    \n",
    "    \n",
    "    \n",
    "def end_func(b):\n",
    "    global i\n",
    "    if i>0 and R < 13:\n",
    "        i = 3\n",
    "        with output6:\n",
    "            output6.clear_output()\n",
    "            print(\"Turn Over\")\n",
    "        with output8:\n",
    "            output8.clear_output()\n",
    "            print(f\"Roll: {i}\")\n",
    "    if R == 13:\n",
    "        with end_turn_info:\n",
    "            end_turn_info.clear_output()\n",
    "            print(\"Game Finished\")\n",
    "    \n",
    "\n",
    "def check_score_func(b):\n",
    "    global i,Dice_Roll1,Dice_Roll2,Dice_Roll3,Dice_Roll4,Dice_Roll5\n",
    "    if(i>0):\n",
    "        L = [Dice_Roll1[0],Dice_Roll2[0],Dice_Roll3[0],Dice_Roll4[0],Dice_Roll5[0]]\n",
    "        output7.clear_output()\n",
    "        with output7:\n",
    "        # checks for Yahtzee hands and gives sum\n",
    "            for j in L:\n",
    "                s = ''.join(str(j) for j in sorted(L))\n",
    "            if '12345' in s or '23456' in s:\n",
    "                print(\"Large Straight\")\n",
    "            elif '1234' in s or '2345' in s or '3456' in s:\n",
    "                print(\"Small Straight\")\n",
    "            unq, cnt= np.unique(L, axis=0,return_index=False,return_counts=True)\n",
    "            for j in range(len(cnt)):\n",
    "                if cnt[j] == 3:\n",
    "                    print(f\"Three of a Kind with {unq[j]}\")\n",
    "                if cnt[j] == 4:\n",
    "                    print(f\"Four of a Kind with {unq[j]}\")\n",
    "                if cnt[j] == 5:\n",
    "                    print(f\"Yahtzo with {unq[j]}s!!\")\n",
    "            for j in range(len(cnt)):\n",
    "                if cnt[j] == 3:\n",
    "                    for k in range(len(cnt)):\n",
    "                        if cnt[k] == 2:\n",
    "                            print(\"Full House\")\n",
    "            print(f\"Sum: {sum(L)}\")\n",
    "\n",
    "\n",
    "\n",
    "def on_button1_clicked(b):\n",
    "    global i\n",
    "    global d1\n",
    "    if i>0:\n",
    "        with output1:\n",
    "            if(d1 == 0):\n",
    "                d1 = 1\n",
    "                button1.style.button_color = 'yellow'\n",
    "            elif(d1 == 1):\n",
    "                button1.style.button_color = 'WhiteSmoke'\n",
    "                d1 = 0\n",
    "\n",
    "\n",
    "\n",
    "def on_button2_clicked(b):\n",
    "    global i\n",
    "    global d2\n",
    "    if i>0:\n",
    "        with output2:\n",
    "            if(d2 == 0):\n",
    "                d2 = 1\n",
    "                button2.style.button_color = 'yellow'\n",
    "            elif(d2 == 1):\n",
    "                button2.style.button_color = 'WhiteSmoke'\n",
    "                d2 = 0\n",
    "\n",
    "\n",
    "def on_button3_clicked(b):\n",
    "    global i\n",
    "    global d3\n",
    "    if i>0:\n",
    "        with output3:\n",
    "            if(d3 == 0):\n",
    "                d3 = 1\n",
    "                button3.style.button_color = 'yellow'\n",
    "            elif(d3 == 1):\n",
    "                button3.style.button_color = 'WhiteSmoke'\n",
    "                d3 = 0\n",
    "\n",
    "def on_button4_clicked(b):\n",
    "    global i\n",
    "    global d4\n",
    "    if i>0:\n",
    "        with output4:\n",
    "            if(d4 == 0):\n",
    "                d4 = 1\n",
    "                button4.style.button_color = 'yellow'\n",
    "            elif(d4 == 1):\n",
    "                button4.style.button_color = 'WhiteSmoke'\n",
    "                d4 = 0\n",
    "\n",
    "def on_button5_clicked(b):\n",
    "    global i\n",
    "    global d5\n",
    "    if i>0:\n",
    "        with output5:\n",
    "            if(d5 == 0):\n",
    "                d5 = 1\n",
    "                button5.style.button_color = 'yellow'\n",
    "            elif(d5 == 1):\n",
    "                button5.style.button_color = 'WhiteSmoke'\n",
    "                d5 = 0\n",
    "                \n",
    "###### Scoring Functions ######\n",
    "def one_func(b):\n",
    "    global sc_check,rnd_check,R,i\n",
    "    if i>=3:\n",
    "        if rnd_check == R:\n",
    "            score = check_endscore_func(1,\"upper\",0)\n",
    "            if sc_check[0] < 1:\n",
    "                sc_output[0].clear_output()\n",
    "                with sc_output[0]:\n",
    "                    print(score)\n",
    "                sc_check[0] = 1\n",
    "    if i < 3:\n",
    "        with end_turn_info:\n",
    "            end_turn_info.clear_output()\n",
    "            print(\"Press End Turn to Score\")\n",
    "\n",
    "def two_func(b):\n",
    "    global sc_check,rnd_check,R,i\n",
    "    if i>=3:\n",
    "        if rnd_check == R:\n",
    "            score = check_endscore_func(2,\"upper\",1)\n",
    "            if sc_check[1] < 1:\n",
    "                sc_output[1].clear_output()\n",
    "                with sc_output[1]:\n",
    "                    print(score)\n",
    "                sc_check[1] = 1\n",
    "    if i < 3:\n",
    "        with end_turn_info:\n",
    "            end_turn_info.clear_output()\n",
    "            print(\"Press End Turn to Score\")\n",
    "    \n",
    "def three_func(b):\n",
    "    global sc_check,rnd_check,R,i\n",
    "    if i>=3:\n",
    "        if rnd_check == R:\n",
    "            score = check_endscore_func(3,\"upper\",2)\n",
    "            if sc_check[2] < 1:\n",
    "                sc_output[2].clear_output()\n",
    "                with sc_output[2]:\n",
    "                    print(score)\n",
    "                sc_check[2] = 1\n",
    "    if i < 3:\n",
    "        with end_turn_info:\n",
    "            end_turn_info.clear_output()\n",
    "            print(\"Press End Turn to Score\")\n",
    "\n",
    "def four_func(b):\n",
    "    global sc_check,rnd_check,R,i\n",
    "    if i>=3:\n",
    "        if rnd_check == R:\n",
    "            score = check_endscore_func(4,\"upper\",3)\n",
    "            if sc_check[3] < 1:\n",
    "                sc_output[3].clear_output()\n",
    "                with sc_output[3]:\n",
    "                    print(score)\n",
    "                sc_check[3] = 1\n",
    "    if i < 3:\n",
    "        with end_turn_info:\n",
    "            end_turn_info.clear_output()\n",
    "            print(\"Press End Turn to Score\")\n",
    "\n",
    "def five_func(b):\n",
    "    global sc_check,rnd_check,R,i\n",
    "    if i>=3:\n",
    "        if rnd_check == R:\n",
    "            score = check_endscore_func(5,\"upper\",4)\n",
    "            if sc_check[4] < 1:\n",
    "                sc_output[4].clear_output()\n",
    "                with sc_output[4]:\n",
    "                    print(score)\n",
    "                sc_check[4] = 1\n",
    "    if i < 3:\n",
    "        with end_turn_info:\n",
    "            end_turn_info.clear_output()\n",
    "            print(\"Press End Turn to Score\")\n",
    "    \n",
    "def six_func(b):\n",
    "    global sc_check,rnd_check,R,i\n",
    "    if i>=3:\n",
    "        if rnd_check == R:\n",
    "            score = check_endscore_func(6,\"upper\",5)\n",
    "            if sc_check[5] < 1:\n",
    "                sc_output[5].clear_output()\n",
    "                with sc_output[5]:\n",
    "                    print(score)\n",
    "                sc_check[5] = 1\n",
    "    if i < 3:\n",
    "        with end_turn_info:\n",
    "            end_turn_info.clear_output()\n",
    "            print(\"Press End Turn to Score\")\n",
    "        \n",
    "def upper_sum(b):\n",
    "    global scores\n",
    "    with sc_output[6]:\n",
    "        sc_output[6].clear_output()\n",
    "        scores[6] = scores[0] + scores[1] + scores[2] + scores[3] + scores[4] + scores[5]\n",
    "        print(f\"{scores[6]}\")\n",
    "    \n",
    "def upper_total(b):\n",
    "    global scores\n",
    "    if scores[6] == 0:\n",
    "            scores[6] = scores[0] + scores[1] + scores[2] + scores[3] + scores[4] + scores[5]\n",
    "    with sc_output[6]:\n",
    "        sc_output[6].clear_output()\n",
    "        print(f\"{scores[6]}\")\n",
    "    with sc_output[7]:\n",
    "        sc_output[7].clear_output()\n",
    "        if scores[6]>63:\n",
    "            scores[7] = scpres[6] + 35\n",
    "        else:\n",
    "            scores[7] = scores[6]\n",
    "        print(f\"{scores[7]}\")\n",
    "\n",
    "def threekind_func(b):\n",
    "    global sc_check,rnd_check,R,bonus_yaht,i\n",
    "    if i>=3:\n",
    "        if rnd_check == R:\n",
    "            score = check_endscore_func(0,\"three\",8)\n",
    "            bonus_yaht = False\n",
    "            if sc_check[8] < 1:\n",
    "                sc_output[8].clear_output()\n",
    "                with sc_output[8]:\n",
    "                    print(score)\n",
    "                sc_check[8] = 1\n",
    "    if i < 3:\n",
    "        with end_turn_info:\n",
    "            end_turn_info.clear_output()\n",
    "            print(\"Press End Turn to Score\")\n",
    "    \n",
    "    \n",
    "def fourkind_func(b):\n",
    "    global sc_check,rnd_check,R,bonus_yaht,i\n",
    "    if i>=3:\n",
    "        if rnd_check == R:\n",
    "            score = check_endscore_func(0,\"four\",9)\n",
    "            bonus_yaht = False\n",
    "            if sc_check[9] < 1:\n",
    "                sc_output[9].clear_output()\n",
    "                with sc_output[9]:\n",
    "                    print(score)\n",
    "                sc_check[9] = 1\n",
    "    if i < 3:\n",
    "        with end_turn_info:\n",
    "            end_turn_info.clear_output()\n",
    "            print(\"Press End Turn to Score\")\n",
    "    \n",
    "def fullhouse_func(b):\n",
    "    global sc_check,rnd_check,R,bonus_yaht,i\n",
    "    if i>=3:\n",
    "\n",
    "        if rnd_check == R and bonus_yaht == False:\n",
    "            score = check_endscore_func(0,\"full house\",10)\n",
    "            if sc_check[10] < 1:\n",
    "                sc_output[10].clear_output()\n",
    "                with sc_output[10]:\n",
    "                    print(score)\n",
    "                sc_check[10] = 1\n",
    "        if rnd_check == R and bonus_yaht == True and sc_check[10] < 1:\n",
    "            rnd_check = rnd_check + 1\n",
    "            bonus_yaht = False\n",
    "            scores[10] = 25\n",
    "            sc_output[10].clear_output()\n",
    "            with sc_output[10]:\n",
    "                print(scores[10])\n",
    "            sc_check[10] = 1\n",
    "    if i < 3:\n",
    "        with end_turn_info:\n",
    "            end_turn_info.clear_output()\n",
    "            print(\"Press End Turn to Score\")\n",
    "    \n",
    "def Sstraight_func(b):\n",
    "    global sc_check,rnd_check,R,bonus_yaht,i\n",
    "    if i>=3:\n",
    "        if rnd_check == R and bonus_yaht == False:\n",
    "            score = check_endscore_func(0,\"Sstraight\",11)\n",
    "            if sc_check[11] < 1:\n",
    "                sc_output[11].clear_output()\n",
    "                with sc_output[11]:\n",
    "                    print(score)\n",
    "                sc_check[11] = 1\n",
    "        if rnd_check == R and bonus_yaht == True and sc_check[11] < 1:\n",
    "            rnd_check = rnd_check + 1\n",
    "            bonus_yaht = False\n",
    "            scores[11] = 30\n",
    "            sc_output[11].clear_output()\n",
    "            with sc_output[11]:\n",
    "                print(scores[11])\n",
    "            sc_check[11] = 1\n",
    "    if i < 3:\n",
    "        with end_turn_info:\n",
    "            end_turn_info.clear_output()\n",
    "            print(\"Press End Turn to Score\")\n",
    "    \n",
    "def Lstraight_func(b):\n",
    "    global sc_check,rnd_check,R,bonus_yaht,i\n",
    "    if i>=3:\n",
    "        if rnd_check == R and bonus_yaht == False:\n",
    "            score = check_endscore_func(0,\"Lstraight\",12)\n",
    "            if sc_check[12] < 1:\n",
    "                sc_output[12].clear_output()\n",
    "                with sc_output[12]:\n",
    "                    print(score)\n",
    "                sc_check[12] = 1\n",
    "        if rnd_check == R and bonus_yaht == True and sc_check[12] < 1:\n",
    "            rnd_check = rnd_check + 1\n",
    "            bonus_yaht = False\n",
    "            scores[12] = 40\n",
    "            sc_output[12].clear_output()\n",
    "            with sc_output[12]:\n",
    "                print(f\"{scores[12]}\")\n",
    "            sc_check[12] = 1\n",
    "    if i < 3:\n",
    "        with end_turn_info:\n",
    "            end_turn_info.clear_output()\n",
    "            print(\"Press End Turn to Score\")\n",
    "        \n",
    "def chance_func(b):\n",
    "    global sc_check,rnd_check,R,i,bonus_yaht\n",
    "    if i>=3:\n",
    "        if rnd_check == R:\n",
    "            score = check_endscore_func(0,\"chance\",13)\n",
    "            bonus_yaht = False\n",
    "            if sc_check[13] < 1:\n",
    "                sc_output[13].clear_output()\n",
    "                with sc_output[13]:\n",
    "                    print(score)\n",
    "                sc_check[13] = 1\n",
    "    if i < 3:\n",
    "        with end_turn_info:\n",
    "            end_turn_info.clear_output()\n",
    "            print(\"Press End Turn to Score\")\n",
    "        \n",
    "    \n",
    "def yahtzee_func(b):\n",
    "    global sc_check,rnd_check,R,i\n",
    "    if i>=3:\n",
    "        if rnd_check == R:\n",
    "            score = check_endscore_func(0,\"yahtzee\",14)\n",
    "            if sc_check[14] < 1:\n",
    "                sc_output[14].clear_output()\n",
    "                with sc_output[14]:\n",
    "                    print(score)\n",
    "                sc_check[14] = 1\n",
    "    if i < 3:\n",
    "        with end_turn_info:\n",
    "            end_turn_info.clear_output()\n",
    "            print(\"Press End Turn to Score\")\n",
    "            \n",
    "\n",
    "def bonus_yahtzee(b):\n",
    "    global sc_check,rnd_check,R,scores,Dice_Roll1,Dice_Roll2,Dice_Roll3,Dice_Roll4,Dice_Roll5,i,bonus_yaht\n",
    "    \n",
    "    if i>=3:\n",
    "        L = [Dice_Roll1[0],Dice_Roll2[0],Dice_Roll3[0],Dice_Roll4[0],Dice_Roll5[0]]\n",
    "        unq, cnt= np.unique(L, axis=0,return_index=False,return_counts=True)\n",
    "\n",
    "        if scores[14] == 50:\n",
    "            number = 0\n",
    "            for j in range(len(cnt)):\n",
    "                if cnt[j] == 5:\n",
    "                    number = unq[j]\n",
    "                    scores[15] = scores[15] + 100\n",
    "                    sc_output[15].clear_output()\n",
    "                    with sc_output[15]:\n",
    "                        print(f\"{scores[15]}\")\n",
    "            if number != 0 and sc_check[number-1] == 0:\n",
    "                sc_output[number-1].clear_output()\n",
    "                with sc_output[number-1]:\n",
    "                    scores[number-1] = 5*number\n",
    "                    sc_check[number-1] = 1\n",
    "                    print(f\"{scores[number-1]}\")\n",
    "                    # if upper section with the number not filled, fill it\n",
    "                    rnd_check = rnd_check + 1\n",
    "            elif number != 0:\n",
    "                if sc_check[8] == 0 or sc_check[9] == 0 or sc_check[10] == 0 or sc_check[11] == 0 or sc_check[12] == 0 or sc_check[13] == 0:\n",
    "                    bonus_yaht = True\n",
    "\n",
    "                    with sc_output[18]:\n",
    "                        sc_output[18].clear_output()\n",
    "                        print(\"Fill in Lower Section as Joker\")\n",
    "                        # rnd_check will occur after lower section picked\n",
    "\n",
    "\n",
    "\n",
    "        else:\n",
    "            with sc_output[18]:\n",
    "                sc_output[18].clear_output()\n",
    "                print(\"Cannot Take Bonus Yahtzo\")\n",
    "                # need to add this output widget\n",
    "    if i < 3:\n",
    "        with end_turn_info:\n",
    "            end_turn_info.clear_output()\n",
    "            print(\"Press End Turn to Score\")\n",
    "        \n",
    "def lower_sum(b):\n",
    "    global scores\n",
    "    with sc_output[16]:\n",
    "        sc_output[16].clear_output()\n",
    "        scores[16] = scores[8] + scores[9] + scores[10] + scores[11] + scores[12] + scores[13] + scores[14] + scores[15]\n",
    "        print(f\"{scores[16]}\")\n",
    "\n",
    "def grand_total(b):\n",
    "    global scores\n",
    "    with sc_output[17]:\n",
    "        sc_output[17].clear_output()\n",
    "        scores[17] = scores[16] + scores[6]\n",
    "        print(f\"{scores[17]}\")\n",
    "\n",
    "\n",
    "#define general function that the buttons will all refer to\n",
    "# num is the number used (0 for stuff like straights,chance,full house)\n",
    "def check_endscore_func(num,typ,index):\n",
    "    global i,Dice_Roll1,Dice_Roll2,Dice_Roll3,Dice_Roll4,Dice_Roll5,scores,rnd_check\n",
    "    \n",
    "    if(i>=3):\n",
    "        rnd_check = rnd_check + 1 \n",
    "        L = [Dice_Roll1[0],Dice_Roll2[0],Dice_Roll3[0],Dice_Roll4[0],Dice_Roll5[0]]\n",
    "        unq, cnt= np.unique(L, axis=0,return_index=False,return_counts=True)\n",
    "        if typ == \"upper\":\n",
    "            if num in unq:\n",
    "                scores[index] = num*cnt[np.where(unq == num)[0][0]]\n",
    "            else:\n",
    "                scores[index] = 0\n",
    "            return scores[index]\n",
    "        if typ == \"Lstraight\":\n",
    "            for i in L:\n",
    "                s = ''.join(str(i) for i in sorted(L))\n",
    "                if '12345' in s or '23456' in s:\n",
    "                    scores[index] = 40\n",
    "                else:\n",
    "                    scores[index] = 0\n",
    "                return scores[index]\n",
    "        if typ == \"Sstraight\":\n",
    "            for i in L:\n",
    "                s = ''.join(str(i) for i in sorted(L))\n",
    "                if '1234' in s or '2345' in s or '3456' in s:\n",
    "                    scores[index] = 30\n",
    "                else:\n",
    "                    scores[index] = 0\n",
    "                return scores[index]\n",
    "        if typ == 'three':\n",
    "            for j in range(len(cnt)):\n",
    "                if cnt[j] >= 3:\n",
    "                    scores[index] = sum(L)  \n",
    "        if typ == 'four':\n",
    "            for j in range(len(cnt)):\n",
    "                if cnt[j] >= 4:\n",
    "                    scores[index] = sum(L)\n",
    "        \n",
    "        if typ == 'yahtzee':\n",
    "            for j in range(len(cnt)):\n",
    "                if cnt[j] == 5:\n",
    "                    scores[index] = 50\n",
    "            return scores[index]\n",
    "            \n",
    "        if typ == 'full house':\n",
    "            for j in range(len(cnt)):\n",
    "                if cnt[j] == 3:\n",
    "                    for k in range(len(cnt)):\n",
    "                        if cnt[k] == 2:\n",
    "                            scores[index] = 25\n",
    "            return scores[index]\n",
    "        if typ == 'chance':\n",
    "            scores[index] = sum(L)\n",
    "            return scores[index]\n",
    "        \n",
    "    return scores[index]\n",
    "\n",
    "##### Button Click #####\n",
    "button1.on_click(on_button1_clicked)\n",
    "button2.on_click(on_button2_clicked)\n",
    "button3.on_click(on_button3_clicked)\n",
    "button4.on_click(on_button4_clicked)\n",
    "button5.on_click(on_button5_clicked)\n",
    "roll.on_click(roll_func)\n",
    "end.on_click(end_func)\n",
    "reset.on_click(reset_func)\n",
    "check.on_click(check_score_func)\n",
    "game_reset.on_click(game_reset_func)\n",
    "\n",
    "sc_but[0].on_click(one_func)\n",
    "sc_but[1].on_click(two_func)\n",
    "sc_but[2].on_click(three_func)\n",
    "sc_but[3].on_click(four_func)\n",
    "sc_but[4].on_click(five_func)\n",
    "sc_but[5].on_click(six_func)\n",
    "sc_but[6].on_click(upper_sum)\n",
    "sc_but[7].on_click(upper_total)\n",
    "sc_but[8].on_click(threekind_func)\n",
    "sc_but[9].on_click(fourkind_func)\n",
    "sc_but[10].on_click(fullhouse_func)\n",
    "sc_but[11].on_click(Sstraight_func)\n",
    "sc_but[12].on_click(Lstraight_func)\n",
    "sc_but[13].on_click(chance_func)\n",
    "sc_but[14].on_click(yahtzee_func)\n",
    "sc_but[15].on_click(bonus_yahtzee)\n",
    "sc_but[16].on_click(lower_sum)\n",
    "sc_but[17].on_click(grand_total)\n",
    "\n",
    "\n",
    "##### Containers #####\n",
    "\n",
    "buttons = widgets.VBox([button1,button2,button3,button4,button5,roll,reset,end,check])\n",
    "outputs = widgets.VBox([output1,output2,output3,output4,output5,rnd,output8,output6,output7])\n",
    "game = widgets.HBox([buttons,outputs])\n",
    "rolling = widgets.VBox([title, game,game_reset])\n",
    "\n",
    "scoring_buttons = widgets.VBox(sc_but)\n",
    "sc_outputs = widgets.VBox(sc_output)\n",
    "scoring = widgets.HBox([scoring_buttons,sc_outputs])\n",
    "scoring_top = widgets.HBox([end,end_turn_info])\n",
    "scoring_total = widgets.VBox([scoring_top,scoring])\n",
    "\n",
    "\n",
    "# defining a list with the contents of our windows\n",
    "children = [rolling, scoring_total]\n",
    "# initializing a tab\n",
    "tab = widgets.Tab()\n",
    "# setting the tab windows \n",
    "tab.children = children\n",
    "# changing the title of the first and second window\n",
    "tab.set_title(0, 'Play')\n",
    "tab.set_title(1, 'Score')\n",
    "\n",
    "tab\n",
    "\n"
   ]
  },
  {
   "cell_type": "code",
   "execution_count": 2,
   "id": "7894c1aa",
   "metadata": {},
   "outputs": [
    {
     "data": {
      "text/html": [
       "<script>\n",
       "code_show=true; \n",
       "function code_toggle() {\n",
       " if (code_show){\n",
       " $('div.input').hide();\n",
       " } else {\n",
       " $('div.input').show();\n",
       " }\n",
       " code_show = !code_show\n",
       "} \n",
       "$( document ).ready(code_toggle);\n",
       "</script>\n",
       "<form action=\"javascript:code_toggle()\"><input type=\"submit\" value=\"Click here to toggle on/off the raw code.\"></form>"
      ],
      "text/plain": [
       "<IPython.core.display.HTML object>"
      ]
     },
     "execution_count": 2,
     "metadata": {},
     "output_type": "execute_result"
    }
   ],
   "source": [
    "HTML('''<script>\n",
    "code_show=true; \n",
    "function code_toggle() {\n",
    " if (code_show){\n",
    " $('div.input').hide();\n",
    " } else {\n",
    " $('div.input').show();\n",
    " }\n",
    " code_show = !code_show\n",
    "} \n",
    "$( document ).ready(code_toggle);\n",
    "</script>\n",
    "<form action=\"javascript:code_toggle()\"><input type=\"submit\" value=\"Click here to toggle on/off the raw code.\"></form>''')"
   ]
  },
  {
   "cell_type": "code",
   "execution_count": null,
   "id": "e647ff38",
   "metadata": {},
   "outputs": [],
   "source": []
  }
 ],
 "metadata": {
  "kernelspec": {
   "display_name": "Python 3",
   "language": "python",
   "name": "python3"
  },
  "language_info": {
   "codemirror_mode": {
    "name": "ipython",
    "version": 3
   },
   "file_extension": ".py",
   "mimetype": "text/x-python",
   "name": "python",
   "nbconvert_exporter": "python",
   "pygments_lexer": "ipython3",
   "version": "3.8.8"
  },
  "widgets": {
   "application/vnd.jupyter.widget-state+json": {
    "state": {
     "01ab12a33bfa46e3b81d333dbfd7ff7c": {
      "model_module": "@jupyter-widgets/base",
      "model_module_version": "1.2.0",
      "model_name": "LayoutModel",
      "state": {
       "border": "1.0px solid black"
      }
     },
     "04d8b3a692054d4d842a8d035166a3f7": {
      "model_module": "@jupyter-widgets/controls",
      "model_module_version": "1.5.0",
      "model_name": "ButtonStyleModel",
      "state": {}
     },
     "0b7c47ce47054f1887b78aa85a4a383a": {
      "model_module": "@jupyter-widgets/controls",
      "model_module_version": "1.5.0",
      "model_name": "ButtonModel",
      "state": {
       "description": "bonus yahtzo",
       "layout": "IPY_MODEL_3f5376ccca2043d1912d89f7321ec6ce",
       "style": "IPY_MODEL_04d8b3a692054d4d842a8d035166a3f7"
      }
     },
     "0e2d6812f24a4d5f9ebe03cd2699c559": {
      "model_module": "@jupyter-widgets/base",
      "model_module_version": "1.2.0",
      "model_name": "LayoutModel",
      "state": {}
     },
     "0e9a438015e14c4f907df9ff7316ffe1": {
      "model_module": "@jupyter-widgets/base",
      "model_module_version": "1.2.0",
      "model_name": "LayoutModel",
      "state": {
       "border": "0.5px solid black"
      }
     },
     "10b48d52c8b54919a8cec7a414f2777a": {
      "model_module": "@jupyter-widgets/controls",
      "model_module_version": "1.5.0",
      "model_name": "ButtonModel",
      "state": {
       "description": "Hold Dice 4",
       "layout": "IPY_MODEL_5a051e0313424459bbcca3071737eff9",
       "style": "IPY_MODEL_a6844534a9954c2dbdee6507be4af746"
      }
     },
     "11a7741f5f094c66b4c8eaf49623d838": {
      "model_module": "@jupyter-widgets/output",
      "model_module_version": "1.0.0",
      "model_name": "OutputModel",
      "state": {
       "layout": "IPY_MODEL_e5feeafd6b72481d90f9497f3b98b2d6",
       "outputs": [
        {
         "name": "stdout",
         "output_type": "stream",
         "text": "\t \t\n"
        }
       ]
      }
     },
     "122fc5cb35234c89afa3ec6e2c8459fb": {
      "model_module": "@jupyter-widgets/controls",
      "model_module_version": "1.5.0",
      "model_name": "VBoxModel",
      "state": {
       "children": [
        "IPY_MODEL_f36103e11bc94b9fa19781cddb77b5f0",
        "IPY_MODEL_22c28867d06b4487b38df9944672cb7a",
        "IPY_MODEL_4544bbfaaa42471d9769a4c05e581779"
       ],
       "layout": "IPY_MODEL_df007422a5864488ac83cddad0614627"
      }
     },
     "13e5c06c72e84084953a2e6ee17e6361": {
      "model_module": "@jupyter-widgets/output",
      "model_module_version": "1.0.0",
      "model_name": "OutputModel",
      "state": {
       "layout": "IPY_MODEL_79f0dab2159b447fa214d768b6b6aa70",
       "outputs": [
        {
         "name": "stdout",
         "output_type": "stream",
         "text": "\t \t\n"
        }
       ]
      }
     },
     "1458c6869730453cb34a624a56c48b22": {
      "model_module": "@jupyter-widgets/base",
      "model_module_version": "1.2.0",
      "model_name": "LayoutModel",
      "state": {}
     },
     "1821c88a63594966a2d809aa504482ce": {
      "model_module": "@jupyter-widgets/controls",
      "model_module_version": "1.5.0",
      "model_name": "ButtonStyleModel",
      "state": {}
     },
     "194ae5ab7f4f417fb734ec9c2e6b96cd": {
      "model_module": "@jupyter-widgets/base",
      "model_module_version": "1.2.0",
      "model_name": "LayoutModel",
      "state": {}
     },
     "19b8e44296dd46ef951ce9b8d26024c1": {
      "model_module": "@jupyter-widgets/controls",
      "model_module_version": "1.5.0",
      "model_name": "ButtonStyleModel",
      "state": {}
     },
     "1b05cd8f6a8e43469625463277d164b6": {
      "model_module": "@jupyter-widgets/controls",
      "model_module_version": "1.5.0",
      "model_name": "ButtonModel",
      "state": {
       "description": "sum",
       "layout": "IPY_MODEL_91b35b34e27a4483a70c5216ac7a66c2",
       "style": "IPY_MODEL_8b49ce63bcaa4f4fb517b16d8b4bc853"
      }
     },
     "1b36e21f8a4043ba915f954e62a841ab": {
      "model_module": "@jupyter-widgets/base",
      "model_module_version": "1.2.0",
      "model_name": "LayoutModel",
      "state": {}
     },
     "1e535f70aee24edba706f23465eb9b38": {
      "model_module": "@jupyter-widgets/base",
      "model_module_version": "1.2.0",
      "model_name": "LayoutModel",
      "state": {
       "border": "0.5px solid black"
      }
     },
     "22c28867d06b4487b38df9944672cb7a": {
      "model_module": "@jupyter-widgets/controls",
      "model_module_version": "1.5.0",
      "model_name": "HBoxModel",
      "state": {
       "children": [
        "IPY_MODEL_d408634849cb4d9ea332a07e30c06356",
        "IPY_MODEL_6d0210e9a2ec43f7b97b7918dab7c3bc"
       ],
       "layout": "IPY_MODEL_0e2d6812f24a4d5f9ebe03cd2699c559"
      }
     },
     "23067f14185c4bdaa5f5220a206cf9f9": {
      "model_module": "@jupyter-widgets/base",
      "model_module_version": "1.2.0",
      "model_name": "LayoutModel",
      "state": {
       "border": "1.0px solid black"
      }
     },
     "248f5754ddb14334998cf9b306001fa7": {
      "model_module": "@jupyter-widgets/controls",
      "model_module_version": "1.5.0",
      "model_name": "HBoxModel",
      "state": {
       "children": [
        "IPY_MODEL_731b99723ff74e7dbdcc3d972aa61bd7",
        "IPY_MODEL_c9c79ec6127042199d019b06a38259f6"
       ],
       "layout": "IPY_MODEL_7ad5fef9942741828fe3a480eb538ee2"
      }
     },
     "25d02c10f9c340bb8247a2f5635d81b0": {
      "model_module": "@jupyter-widgets/base",
      "model_module_version": "1.2.0",
      "model_name": "LayoutModel",
      "state": {
       "border": "1.0px solid black"
      }
     },
     "27613a641bd740bd96434c4d98c40e1c": {
      "model_module": "@jupyter-widgets/output",
      "model_module_version": "1.0.0",
      "model_name": "OutputModel",
      "state": {
       "layout": "IPY_MODEL_68562f2308fb486e85a2f75b1e80cdc4"
      }
     },
     "27a055ddda114b89a927cb4e97a3bd58": {
      "model_module": "@jupyter-widgets/controls",
      "model_module_version": "1.5.0",
      "model_name": "ButtonModel",
      "state": {
       "description": "Hold Dice 5",
       "layout": "IPY_MODEL_3658d189503b46abb521f3e4609c706b",
       "style": "IPY_MODEL_67b5767fb5da45eb86e3e0a47a032cd3"
      }
     },
     "2930e4c376284e0a858b96d04bb6f04b": {
      "model_module": "@jupyter-widgets/controls",
      "model_module_version": "1.5.0",
      "model_name": "VBoxModel",
      "state": {
       "children": [
        "IPY_MODEL_9e892876ed5244aa9890d5ac227a68b7",
        "IPY_MODEL_248f5754ddb14334998cf9b306001fa7"
       ],
       "layout": "IPY_MODEL_2d018b9941f547e1869feaf94cf33b5d"
      }
     },
     "2aa7b54968ba4ac292d1e3237bd4a2e3": {
      "model_module": "@jupyter-widgets/controls",
      "model_module_version": "1.5.0",
      "model_name": "ButtonModel",
      "state": {
       "description": "full house",
       "layout": "IPY_MODEL_9312b7e1e7064b08a5e84601668f0d33",
       "style": "IPY_MODEL_4291bf930ba743a7b4b70af749c374d1"
      }
     },
     "2ae68424111048b8b01475f5857fffdc": {
      "model_module": "@jupyter-widgets/output",
      "model_module_version": "1.0.0",
      "model_name": "OutputModel",
      "state": {
       "layout": "IPY_MODEL_acbbdcac3ad948f3a7e841643b4dbb1c"
      }
     },
     "2d018b9941f547e1869feaf94cf33b5d": {
      "model_module": "@jupyter-widgets/base",
      "model_module_version": "1.2.0",
      "model_name": "LayoutModel",
      "state": {}
     },
     "2dd2af0b979a463fb0fe46dae2a99f55": {
      "model_module": "@jupyter-widgets/base",
      "model_module_version": "1.2.0",
      "model_name": "LayoutModel",
      "state": {}
     },
     "33b3619512ce4bc08d9f03453f158cc7": {
      "model_module": "@jupyter-widgets/controls",
      "model_module_version": "1.5.0",
      "model_name": "ButtonStyleModel",
      "state": {
       "button_color": "WhiteSmoke"
      }
     },
     "3410ce8419064e7e94f6867384e282ed": {
      "model_module": "@jupyter-widgets/output",
      "model_module_version": "1.0.0",
      "model_name": "OutputModel",
      "state": {
       "layout": "IPY_MODEL_df0be34c52a148368bb8eb56ee36e628",
       "outputs": [
        {
         "name": "stdout",
         "output_type": "stream",
         "text": "\t \t\n"
        }
       ]
      }
     },
     "34f0d3dc50e94cd0897968948d5f9beb": {
      "model_module": "@jupyter-widgets/output",
      "model_module_version": "1.0.0",
      "model_name": "OutputModel",
      "state": {
       "layout": "IPY_MODEL_8c9ece3cdecd4bf2baa6e00e04e8f153",
       "outputs": [
        {
         "name": "stdout",
         "output_type": "stream",
         "text": "\t \t\n"
        }
       ]
      }
     },
     "3552f603ab144b2e97e6c4fd766fd14f": {
      "model_module": "@jupyter-widgets/output",
      "model_module_version": "1.0.0",
      "model_name": "OutputModel",
      "state": {
       "layout": "IPY_MODEL_b81772e68fd7424eab7a83ec7fee2360"
      }
     },
     "3658d189503b46abb521f3e4609c706b": {
      "model_module": "@jupyter-widgets/base",
      "model_module_version": "1.2.0",
      "model_name": "LayoutModel",
      "state": {}
     },
     "395953179c8f438282cd46dcc8b393e9": {
      "model_module": "@jupyter-widgets/controls",
      "model_module_version": "1.5.0",
      "model_name": "ButtonModel",
      "state": {
       "description": "ones",
       "layout": "IPY_MODEL_b81a45958f8c4afb8189a40d2ff19727",
       "style": "IPY_MODEL_a82b227801df44ea80a1e7ef340d03a7"
      }
     },
     "39e10e2e8401428bbb714cefd49fdaa3": {
      "model_module": "@jupyter-widgets/output",
      "model_module_version": "1.0.0",
      "model_name": "OutputModel",
      "state": {
       "layout": "IPY_MODEL_52580df081c242758db5f272e7056d64",
       "outputs": [
        {
         "name": "stdout",
         "output_type": "stream",
         "text": "\t \t\n"
        }
       ]
      }
     },
     "3f5376ccca2043d1912d89f7321ec6ce": {
      "model_module": "@jupyter-widgets/base",
      "model_module_version": "1.2.0",
      "model_name": "LayoutModel",
      "state": {}
     },
     "4291bf930ba743a7b4b70af749c374d1": {
      "model_module": "@jupyter-widgets/controls",
      "model_module_version": "1.5.0",
      "model_name": "ButtonStyleModel",
      "state": {}
     },
     "442845fb7a56492fb1da5be40b6b0fe2": {
      "model_module": "@jupyter-widgets/controls",
      "model_module_version": "1.5.0",
      "model_name": "ButtonModel",
      "state": {
       "description": "Roll",
       "layout": "IPY_MODEL_8ff6a7f8b2c243c09456adca7b61b434",
       "style": "IPY_MODEL_da5478d67485460abd7b85cd2dc9320d"
      }
     },
     "4461562ae5114b01929c22c94201c604": {
      "model_module": "@jupyter-widgets/base",
      "model_module_version": "1.2.0",
      "model_name": "LayoutModel",
      "state": {
       "border": "1.0px solid black"
      }
     },
     "447b2b284c994fefa784cb663f8b90f7": {
      "model_module": "@jupyter-widgets/base",
      "model_module_version": "1.2.0",
      "model_name": "LayoutModel",
      "state": {
       "border": "0.5px solid black"
      }
     },
     "4542db690bb1432fa80d811e9830aced": {
      "model_module": "@jupyter-widgets/base",
      "model_module_version": "1.2.0",
      "model_name": "LayoutModel",
      "state": {}
     },
     "4544bbfaaa42471d9769a4c05e581779": {
      "model_module": "@jupyter-widgets/controls",
      "model_module_version": "1.5.0",
      "model_name": "ButtonModel",
      "state": {
       "description": "New Game",
       "layout": "IPY_MODEL_f5b77dc07d284453b8b6c011bcdce4c6",
       "style": "IPY_MODEL_53532c619cb2437a9fa04b45e54491ce"
      }
     },
     "456a15f0ee464bbd88747c21cdc35ff5": {
      "model_module": "@jupyter-widgets/output",
      "model_module_version": "1.0.0",
      "model_name": "OutputModel",
      "state": {
       "layout": "IPY_MODEL_25d02c10f9c340bb8247a2f5635d81b0",
       "outputs": [
        {
         "name": "stdout",
         "output_type": "stream",
         "text": "\t \t\n"
        }
       ]
      }
     },
     "46bc1c00055549d7ade9fc1bb3af67eb": {
      "model_module": "@jupyter-widgets/output",
      "model_module_version": "1.0.0",
      "model_name": "OutputModel",
      "state": {
       "layout": "IPY_MODEL_b3317e5b22f64c14baed8f11fc988b68",
       "outputs": [
        {
         "name": "stdout",
         "output_type": "stream",
         "text": "\t \t\n"
        }
       ]
      }
     },
     "49676c9d6cfc4321b67f8b60f76de655": {
      "model_module": "@jupyter-widgets/controls",
      "model_module_version": "1.5.0",
      "model_name": "ButtonStyleModel",
      "state": {}
     },
     "4973306e7599440492dda2fc6e56b1ce": {
      "model_module": "@jupyter-widgets/controls",
      "model_module_version": "1.5.0",
      "model_name": "ButtonModel",
      "state": {
       "description": "Hold Dice 2",
       "layout": "IPY_MODEL_ef172ca88a7f4ddd9968aaa6a0dde60f",
       "style": "IPY_MODEL_5b27fc5eb7524620a34d6fa6922d08f9"
      }
     },
     "49a0e4f193184a30b0053b1cf9f5ae84": {
      "model_module": "@jupyter-widgets/controls",
      "model_module_version": "1.5.0",
      "model_name": "ButtonModel",
      "state": {
       "description": "fives",
       "layout": "IPY_MODEL_e60cdfef31e54a39b06151df56ad109d",
       "style": "IPY_MODEL_5ff7792a30044dca9a0fc948277dfc29"
      }
     },
     "4c760ae9e1ad4d8895850bcde2b8a58a": {
      "model_module": "@jupyter-widgets/output",
      "model_module_version": "1.0.0",
      "model_name": "OutputModel",
      "state": {
       "layout": "IPY_MODEL_516416108d26483f84bda121838b72c9"
      }
     },
     "4e2a0ce8ba2c4e029f3157c8b65594b8": {
      "model_module": "@jupyter-widgets/base",
      "model_module_version": "1.2.0",
      "model_name": "LayoutModel",
      "state": {}
     },
     "4faa539d13324cdfa2018260b2526915": {
      "model_module": "@jupyter-widgets/output",
      "model_module_version": "1.0.0",
      "model_name": "OutputModel",
      "state": {
       "layout": "IPY_MODEL_8451f8a1baf64b7085b7f4cf536ba18b",
       "outputs": [
        {
         "name": "stdout",
         "output_type": "stream",
         "text": "\t \t\n"
        }
       ]
      }
     },
     "500728488dc244f1885e118f9bf796a1": {
      "model_module": "@jupyter-widgets/controls",
      "model_module_version": "1.5.0",
      "model_name": "ButtonModel",
      "state": {
       "description": "Next Round",
       "layout": "IPY_MODEL_a86e686f9cfc4adab730001d2a8cfbca",
       "style": "IPY_MODEL_c4a985709ffe47359d94e010b5384691"
      }
     },
     "516416108d26483f84bda121838b72c9": {
      "model_module": "@jupyter-widgets/base",
      "model_module_version": "1.2.0",
      "model_name": "LayoutModel",
      "state": {
       "border": "0.5px solid black"
      }
     },
     "52580df081c242758db5f272e7056d64": {
      "model_module": "@jupyter-widgets/base",
      "model_module_version": "1.2.0",
      "model_name": "LayoutModel",
      "state": {
       "border": "1.0px solid black"
      }
     },
     "53532c619cb2437a9fa04b45e54491ce": {
      "model_module": "@jupyter-widgets/controls",
      "model_module_version": "1.5.0",
      "model_name": "ButtonStyleModel",
      "state": {
       "button_color": "WhiteSmoke"
      }
     },
     "55a35ab4187747da9d3c79485e195593": {
      "model_module": "@jupyter-widgets/base",
      "model_module_version": "1.2.0",
      "model_name": "LayoutModel",
      "state": {
       "border": "1.0px solid black"
      }
     },
     "564ae4ced1824fef9a6af1372cc1340d": {
      "model_module": "@jupyter-widgets/controls",
      "model_module_version": "1.5.0",
      "model_name": "ButtonModel",
      "state": {
       "description": "End Turn",
       "layout": "IPY_MODEL_4e2a0ce8ba2c4e029f3157c8b65594b8",
       "style": "IPY_MODEL_922ac30c1ba84c4cb471b312f7b4cfec"
      }
     },
     "56a3929479a34468861abb5adcda01da": {
      "model_module": "@jupyter-widgets/controls",
      "model_module_version": "1.5.0",
      "model_name": "ButtonStyleModel",
      "state": {}
     },
     "5a051e0313424459bbcca3071737eff9": {
      "model_module": "@jupyter-widgets/base",
      "model_module_version": "1.2.0",
      "model_name": "LayoutModel",
      "state": {}
     },
     "5b27fc5eb7524620a34d6fa6922d08f9": {
      "model_module": "@jupyter-widgets/controls",
      "model_module_version": "1.5.0",
      "model_name": "ButtonStyleModel",
      "state": {
       "button_color": "WhiteSmoke"
      }
     },
     "5c5fd54ce2e84fa29592af742f12c10d": {
      "model_module": "@jupyter-widgets/controls",
      "model_module_version": "1.5.0",
      "model_name": "ButtonModel",
      "state": {
       "description": "threes",
       "layout": "IPY_MODEL_7fc9288fba9c4966b9de86fb5ebc51df",
       "style": "IPY_MODEL_8bee21a456ce4e83a8abd92bce6e6a2d"
      }
     },
     "5e26507559ea4753bc57f632e57ca021": {
      "model_module": "@jupyter-widgets/base",
      "model_module_version": "1.2.0",
      "model_name": "LayoutModel",
      "state": {
       "border": "1.0px solid black"
      }
     },
     "5e94d948e9a345bf8eb62c3c44288e5c": {
      "model_module": "@jupyter-widgets/controls",
      "model_module_version": "1.5.0",
      "model_name": "ButtonModel",
      "state": {
       "description": "chance",
       "layout": "IPY_MODEL_9fa378d1eb6a4d5ba07aadd4916a9511",
       "style": "IPY_MODEL_e7a30c465c7f4792ad8b9e3f2a958f62"
      }
     },
     "5f739920524a4db7acb1b808fafefb20": {
      "model_module": "@jupyter-widgets/controls",
      "model_module_version": "1.5.0",
      "model_name": "ButtonModel",
      "state": {
       "description": "lower section total",
       "layout": "IPY_MODEL_e178a248ebdf426bbe4ffbf1785c65ae",
       "style": "IPY_MODEL_c6412f71992045a88c8b81b21f8c3515"
      }
     },
     "5ff7792a30044dca9a0fc948277dfc29": {
      "model_module": "@jupyter-widgets/controls",
      "model_module_version": "1.5.0",
      "model_name": "ButtonStyleModel",
      "state": {}
     },
     "6209d92caf774e2b8c8b825451ae77be": {
      "model_module": "@jupyter-widgets/output",
      "model_module_version": "1.0.0",
      "model_name": "OutputModel",
      "state": {
       "layout": "IPY_MODEL_4461562ae5114b01929c22c94201c604",
       "outputs": [
        {
         "name": "stdout",
         "output_type": "stream",
         "text": "\t \t\n"
        }
       ]
      }
     },
     "6587aa7b1480472aba8381511a55b825": {
      "model_module": "@jupyter-widgets/controls",
      "model_module_version": "1.5.0",
      "model_name": "ButtonModel",
      "state": {
       "description": "Hold Dice 1",
       "layout": "IPY_MODEL_1b36e21f8a4043ba915f954e62a841ab",
       "style": "IPY_MODEL_ddec5d27d6514f718b1f9364c8b5c557"
      }
     },
     "67b5767fb5da45eb86e3e0a47a032cd3": {
      "model_module": "@jupyter-widgets/controls",
      "model_module_version": "1.5.0",
      "model_name": "ButtonStyleModel",
      "state": {
       "button_color": "WhiteSmoke"
      }
     },
     "6842de4f332a4734a998cc938cac9000": {
      "model_module": "@jupyter-widgets/output",
      "model_module_version": "1.0.0",
      "model_name": "OutputModel",
      "state": {
       "layout": "IPY_MODEL_e762dce0525547e997be7abe2735bfbd"
      }
     },
     "68562f2308fb486e85a2f75b1e80cdc4": {
      "model_module": "@jupyter-widgets/base",
      "model_module_version": "1.2.0",
      "model_name": "LayoutModel",
      "state": {
       "border": "0.5px solid black"
      }
     },
     "6d0210e9a2ec43f7b97b7918dab7c3bc": {
      "model_module": "@jupyter-widgets/controls",
      "model_module_version": "1.5.0",
      "model_name": "VBoxModel",
      "state": {
       "children": [
        "IPY_MODEL_ac78771ba6b34786a20bd67cb0b6fb15",
        "IPY_MODEL_3552f603ab144b2e97e6c4fd766fd14f",
        "IPY_MODEL_2ae68424111048b8b01475f5857fffdc",
        "IPY_MODEL_ccd51ed51ef741b3a8242e5782a093e4",
        "IPY_MODEL_90ef158905794d98b0dc61173540e429",
        "IPY_MODEL_e7608bed6cac429e925c55671e1c8f18",
        "IPY_MODEL_27613a641bd740bd96434c4d98c40e1c",
        "IPY_MODEL_4c760ae9e1ad4d8895850bcde2b8a58a",
        "IPY_MODEL_6842de4f332a4734a998cc938cac9000"
       ],
       "layout": "IPY_MODEL_edb6577674c8419eb561c3e5f3969eb7"
      }
     },
     "6fa0d2e8da4c4691b28b54c542ee5439": {
      "model_module": "@jupyter-widgets/controls",
      "model_module_version": "1.5.0",
      "model_name": "ButtonStyleModel",
      "state": {}
     },
     "731b99723ff74e7dbdcc3d972aa61bd7": {
      "model_module": "@jupyter-widgets/controls",
      "model_module_version": "1.5.0",
      "model_name": "VBoxModel",
      "state": {
       "children": [
        "IPY_MODEL_395953179c8f438282cd46dcc8b393e9",
        "IPY_MODEL_85e0fd91b1a14effa16de12cfcbb9b61",
        "IPY_MODEL_5c5fd54ce2e84fa29592af742f12c10d",
        "IPY_MODEL_85bfd4dac1f848ae88b5e6a36d639be5",
        "IPY_MODEL_49a0e4f193184a30b0053b1cf9f5ae84",
        "IPY_MODEL_af28ba3038a94793bf936269060692ec",
        "IPY_MODEL_1b05cd8f6a8e43469625463277d164b6",
        "IPY_MODEL_cc9a8a9fbc7f46a29fe0f2cd187e5921",
        "IPY_MODEL_bc2238ba502d472fbcd4ced1c128c959",
        "IPY_MODEL_e29514035bc94f1796f7c98aa1c88f5b",
        "IPY_MODEL_2aa7b54968ba4ac292d1e3237bd4a2e3",
        "IPY_MODEL_d9fbe6db337a45f083ddaf44c7dd7299",
        "IPY_MODEL_8b7d46a84fac4f66817853af1044cf1d",
        "IPY_MODEL_5e94d948e9a345bf8eb62c3c44288e5c",
        "IPY_MODEL_caf84f205ae145f6be74941b80bc07d8",
        "IPY_MODEL_0b7c47ce47054f1887b78aa85a4a383a",
        "IPY_MODEL_5f739920524a4db7acb1b808fafefb20",
        "IPY_MODEL_758fbbea703b44459844271d74fbddbc"
       ],
       "layout": "IPY_MODEL_e238f82963614904a1e74feafbdaf9f9"
      }
     },
     "758fbbea703b44459844271d74fbddbc": {
      "model_module": "@jupyter-widgets/controls",
      "model_module_version": "1.5.0",
      "model_name": "ButtonModel",
      "state": {
       "description": "Grand Total",
       "layout": "IPY_MODEL_a1cfa1e259504237801f333730746ed8",
       "style": "IPY_MODEL_7af18562439441859cfd4382e12ebf98"
      }
     },
     "75a5420972eb4603bac252e2d043eea3": {
      "model_module": "@jupyter-widgets/base",
      "model_module_version": "1.2.0",
      "model_name": "LayoutModel",
      "state": {}
     },
     "79f0dab2159b447fa214d768b6b6aa70": {
      "model_module": "@jupyter-widgets/base",
      "model_module_version": "1.2.0",
      "model_name": "LayoutModel",
      "state": {
       "border": "1.0px solid black"
      }
     },
     "7ad5fef9942741828fe3a480eb538ee2": {
      "model_module": "@jupyter-widgets/base",
      "model_module_version": "1.2.0",
      "model_name": "LayoutModel",
      "state": {}
     },
     "7af18562439441859cfd4382e12ebf98": {
      "model_module": "@jupyter-widgets/controls",
      "model_module_version": "1.5.0",
      "model_name": "ButtonStyleModel",
      "state": {}
     },
     "7b7e1f30d00445e5b5ffd223d127c9d9": {
      "model_module": "@jupyter-widgets/base",
      "model_module_version": "1.2.0",
      "model_name": "LayoutModel",
      "state": {
       "border": "1.0px solid black"
      }
     },
     "7bf8d269c1f548f3961579110087c24e": {
      "model_module": "@jupyter-widgets/controls",
      "model_module_version": "1.5.0",
      "model_name": "ButtonStyleModel",
      "state": {}
     },
     "7e1d4d2ec28e4fbdabc4a6b3d6cf86ad": {
      "model_module": "@jupyter-widgets/controls",
      "model_module_version": "1.5.0",
      "model_name": "ButtonStyleModel",
      "state": {}
     },
     "7f3eea6cf62c46b68762ebf7f3fc4b07": {
      "model_module": "@jupyter-widgets/output",
      "model_module_version": "1.0.0",
      "model_name": "OutputModel",
      "state": {
       "layout": "IPY_MODEL_fc2135b91a344a73baab078a8a2d740e",
       "outputs": [
        {
         "name": "stdout",
         "output_type": "stream",
         "text": "\t \t\n"
        }
       ]
      }
     },
     "7fc9288fba9c4966b9de86fb5ebc51df": {
      "model_module": "@jupyter-widgets/base",
      "model_module_version": "1.2.0",
      "model_name": "LayoutModel",
      "state": {}
     },
     "83e83b8b7e214b679ee20e6e0be535a4": {
      "model_module": "@jupyter-widgets/base",
      "model_module_version": "1.2.0",
      "model_name": "LayoutModel",
      "state": {}
     },
     "8451f8a1baf64b7085b7f4cf536ba18b": {
      "model_module": "@jupyter-widgets/base",
      "model_module_version": "1.2.0",
      "model_name": "LayoutModel",
      "state": {
       "border": "1.0px solid black"
      }
     },
     "85bfd4dac1f848ae88b5e6a36d639be5": {
      "model_module": "@jupyter-widgets/controls",
      "model_module_version": "1.5.0",
      "model_name": "ButtonModel",
      "state": {
       "description": "fours",
       "layout": "IPY_MODEL_ead8729bc41d4e32a29f6ebe794d3f2c",
       "style": "IPY_MODEL_19b8e44296dd46ef951ce9b8d26024c1"
      }
     },
     "85e0fd91b1a14effa16de12cfcbb9b61": {
      "model_module": "@jupyter-widgets/controls",
      "model_module_version": "1.5.0",
      "model_name": "ButtonModel",
      "state": {
       "description": "twos",
       "layout": "IPY_MODEL_89c14305e8f2418bbc9596562d82d37b",
       "style": "IPY_MODEL_49676c9d6cfc4321b67f8b60f76de655"
      }
     },
     "88677903ca614368ab285bdbb8c9f051": {
      "model_module": "@jupyter-widgets/output",
      "model_module_version": "1.0.0",
      "model_name": "OutputModel",
      "state": {
       "layout": "IPY_MODEL_5e26507559ea4753bc57f632e57ca021",
       "outputs": [
        {
         "name": "stdout",
         "output_type": "stream",
         "text": "\t \t\n"
        }
       ]
      }
     },
     "89c14305e8f2418bbc9596562d82d37b": {
      "model_module": "@jupyter-widgets/base",
      "model_module_version": "1.2.0",
      "model_name": "LayoutModel",
      "state": {}
     },
     "8b49ce63bcaa4f4fb517b16d8b4bc853": {
      "model_module": "@jupyter-widgets/controls",
      "model_module_version": "1.5.0",
      "model_name": "ButtonStyleModel",
      "state": {}
     },
     "8b7d46a84fac4f66817853af1044cf1d": {
      "model_module": "@jupyter-widgets/controls",
      "model_module_version": "1.5.0",
      "model_name": "ButtonModel",
      "state": {
       "description": "large straight",
       "layout": "IPY_MODEL_4542db690bb1432fa80d811e9830aced",
       "style": "IPY_MODEL_c3ad397fcb554d16b4f656288d4c1891"
      }
     },
     "8bee21a456ce4e83a8abd92bce6e6a2d": {
      "model_module": "@jupyter-widgets/controls",
      "model_module_version": "1.5.0",
      "model_name": "ButtonStyleModel",
      "state": {}
     },
     "8c9ece3cdecd4bf2baa6e00e04e8f153": {
      "model_module": "@jupyter-widgets/base",
      "model_module_version": "1.2.0",
      "model_name": "LayoutModel",
      "state": {
       "border": "1.0px solid black"
      }
     },
     "8ff6a7f8b2c243c09456adca7b61b434": {
      "model_module": "@jupyter-widgets/base",
      "model_module_version": "1.2.0",
      "model_name": "LayoutModel",
      "state": {}
     },
     "90ef158905794d98b0dc61173540e429": {
      "model_module": "@jupyter-widgets/output",
      "model_module_version": "1.0.0",
      "model_name": "OutputModel",
      "state": {
       "layout": "IPY_MODEL_1e535f70aee24edba706f23465eb9b38"
      }
     },
     "91b35b34e27a4483a70c5216ac7a66c2": {
      "model_module": "@jupyter-widgets/base",
      "model_module_version": "1.2.0",
      "model_name": "LayoutModel",
      "state": {}
     },
     "922ac30c1ba84c4cb471b312f7b4cfec": {
      "model_module": "@jupyter-widgets/controls",
      "model_module_version": "1.5.0",
      "model_name": "ButtonStyleModel",
      "state": {
       "button_color": "WhiteSmoke"
      }
     },
     "92cc92c0f1364df8a7052bcd86b48970": {
      "model_module": "@jupyter-widgets/base",
      "model_module_version": "1.2.0",
      "model_name": "LayoutModel",
      "state": {}
     },
     "9312b7e1e7064b08a5e84601668f0d33": {
      "model_module": "@jupyter-widgets/base",
      "model_module_version": "1.2.0",
      "model_name": "LayoutModel",
      "state": {}
     },
     "933a08da73d84b2384c6a63221e4760e": {
      "model_module": "@jupyter-widgets/base",
      "model_module_version": "1.2.0",
      "model_name": "LayoutModel",
      "state": {
       "border": "0.5px solid black"
      }
     },
     "99fa97d42390407c93b22aa8bd9e2755": {
      "model_module": "@jupyter-widgets/base",
      "model_module_version": "1.2.0",
      "model_name": "LayoutModel",
      "state": {}
     },
     "9e892876ed5244aa9890d5ac227a68b7": {
      "model_module": "@jupyter-widgets/controls",
      "model_module_version": "1.5.0",
      "model_name": "HBoxModel",
      "state": {
       "children": [
        "IPY_MODEL_564ae4ced1824fef9a6af1372cc1340d",
        "IPY_MODEL_f9f6de63b51c4a10a0e24fb2a007f2e7"
       ],
       "layout": "IPY_MODEL_1458c6869730453cb34a624a56c48b22"
      }
     },
     "9fa378d1eb6a4d5ba07aadd4916a9511": {
      "model_module": "@jupyter-widgets/base",
      "model_module_version": "1.2.0",
      "model_name": "LayoutModel",
      "state": {}
     },
     "a1cfa1e259504237801f333730746ed8": {
      "model_module": "@jupyter-widgets/base",
      "model_module_version": "1.2.0",
      "model_name": "LayoutModel",
      "state": {}
     },
     "a5eb737e6e824218aa81734f8abd6659": {
      "model_module": "@jupyter-widgets/base",
      "model_module_version": "1.2.0",
      "model_name": "LayoutModel",
      "state": {
       "border": "1.0px solid black"
      }
     },
     "a6844534a9954c2dbdee6507be4af746": {
      "model_module": "@jupyter-widgets/controls",
      "model_module_version": "1.5.0",
      "model_name": "ButtonStyleModel",
      "state": {
       "button_color": "WhiteSmoke"
      }
     },
     "a70dbda252ae425c89dd659b3fdeadaf": {
      "model_module": "@jupyter-widgets/controls",
      "model_module_version": "1.5.0",
      "model_name": "DescriptionStyleModel",
      "state": {
       "description_width": ""
      }
     },
     "a804cae3f9fa4382908e306f5aa61d10": {
      "model_module": "@jupyter-widgets/output",
      "model_module_version": "1.0.0",
      "model_name": "OutputModel",
      "state": {
       "layout": "IPY_MODEL_d90ddfeef92547499334eb395cc13b02",
       "outputs": [
        {
         "name": "stdout",
         "output_type": "stream",
         "text": "\t \t\n"
        }
       ]
      }
     },
     "a82b227801df44ea80a1e7ef340d03a7": {
      "model_module": "@jupyter-widgets/controls",
      "model_module_version": "1.5.0",
      "model_name": "ButtonStyleModel",
      "state": {}
     },
     "a86e686f9cfc4adab730001d2a8cfbca": {
      "model_module": "@jupyter-widgets/base",
      "model_module_version": "1.2.0",
      "model_name": "LayoutModel",
      "state": {}
     },
     "ac1b7360298f47e5853efa90c3e84f83": {
      "model_module": "@jupyter-widgets/base",
      "model_module_version": "1.2.0",
      "model_name": "LayoutModel",
      "state": {}
     },
     "ac78771ba6b34786a20bd67cb0b6fb15": {
      "model_module": "@jupyter-widgets/output",
      "model_module_version": "1.0.0",
      "model_name": "OutputModel",
      "state": {
       "layout": "IPY_MODEL_0e9a438015e14c4f907df9ff7316ffe1"
      }
     },
     "acbbdcac3ad948f3a7e841643b4dbb1c": {
      "model_module": "@jupyter-widgets/base",
      "model_module_version": "1.2.0",
      "model_name": "LayoutModel",
      "state": {
       "border": "0.5px solid black"
      }
     },
     "af28ba3038a94793bf936269060692ec": {
      "model_module": "@jupyter-widgets/controls",
      "model_module_version": "1.5.0",
      "model_name": "ButtonModel",
      "state": {
       "description": "sixes",
       "layout": "IPY_MODEL_99fa97d42390407c93b22aa8bd9e2755",
       "style": "IPY_MODEL_7bf8d269c1f548f3961579110087c24e"
      }
     },
     "b3317e5b22f64c14baed8f11fc988b68": {
      "model_module": "@jupyter-widgets/base",
      "model_module_version": "1.2.0",
      "model_name": "LayoutModel",
      "state": {
       "border": "1.0px solid black"
      }
     },
     "b4d33defdd384a54bdbe97dd8942ec57": {
      "model_module": "@jupyter-widgets/controls",
      "model_module_version": "1.5.0",
      "model_name": "ButtonModel",
      "state": {
       "description": "Hold Dice 3",
       "layout": "IPY_MODEL_bf7be742bd354ad2874bf0b11f274117",
       "style": "IPY_MODEL_33b3619512ce4bc08d9f03453f158cc7"
      }
     },
     "b8035694e974461c900d1191ce7a0849": {
      "model_module": "@jupyter-widgets/base",
      "model_module_version": "1.2.0",
      "model_name": "LayoutModel",
      "state": {}
     },
     "b81772e68fd7424eab7a83ec7fee2360": {
      "model_module": "@jupyter-widgets/base",
      "model_module_version": "1.2.0",
      "model_name": "LayoutModel",
      "state": {
       "border": "0.5px solid black"
      }
     },
     "b81a45958f8c4afb8189a40d2ff19727": {
      "model_module": "@jupyter-widgets/base",
      "model_module_version": "1.2.0",
      "model_name": "LayoutModel",
      "state": {}
     },
     "ba2961c7d3854d7b9705101ef8c43079": {
      "model_module": "@jupyter-widgets/output",
      "model_module_version": "1.0.0",
      "model_name": "OutputModel",
      "state": {
       "layout": "IPY_MODEL_bfa256ad52fd4e99a5a75722e77ef97e",
       "outputs": [
        {
         "name": "stdout",
         "output_type": "stream",
         "text": "\t \t\n"
        }
       ]
      }
     },
     "bc2238ba502d472fbcd4ced1c128c959": {
      "model_module": "@jupyter-widgets/controls",
      "model_module_version": "1.5.0",
      "model_name": "ButtonModel",
      "state": {
       "description": "three of a kind",
       "layout": "IPY_MODEL_c20369db8c47497ebe10723c4cf4e2ad",
       "style": "IPY_MODEL_56a3929479a34468861abb5adcda01da"
      }
     },
     "bd6e3bc593dd482dbdfb4024bdc6e05a": {
      "model_module": "@jupyter-widgets/controls",
      "model_module_version": "1.5.0",
      "model_name": "TabModel",
      "state": {
       "_titles": {
        "0": "Play",
        "1": "Score"
       },
       "children": [
        "IPY_MODEL_122fc5cb35234c89afa3ec6e2c8459fb",
        "IPY_MODEL_2930e4c376284e0a858b96d04bb6f04b"
       ],
       "layout": "IPY_MODEL_83e83b8b7e214b679ee20e6e0be535a4"
      }
     },
     "bf7be742bd354ad2874bf0b11f274117": {
      "model_module": "@jupyter-widgets/base",
      "model_module_version": "1.2.0",
      "model_name": "LayoutModel",
      "state": {}
     },
     "bfa256ad52fd4e99a5a75722e77ef97e": {
      "model_module": "@jupyter-widgets/base",
      "model_module_version": "1.2.0",
      "model_name": "LayoutModel",
      "state": {
       "border": "1.0px solid black"
      }
     },
     "c17c05e467c34184bb937d35fc3d727c": {
      "model_module": "@jupyter-widgets/output",
      "model_module_version": "1.0.0",
      "model_name": "OutputModel",
      "state": {
       "layout": "IPY_MODEL_a5eb737e6e824218aa81734f8abd6659",
       "outputs": [
        {
         "name": "stdout",
         "output_type": "stream",
         "text": "\t \t\n"
        }
       ]
      }
     },
     "c20369db8c47497ebe10723c4cf4e2ad": {
      "model_module": "@jupyter-widgets/base",
      "model_module_version": "1.2.0",
      "model_name": "LayoutModel",
      "state": {}
     },
     "c3ad397fcb554d16b4f656288d4c1891": {
      "model_module": "@jupyter-widgets/controls",
      "model_module_version": "1.5.0",
      "model_name": "ButtonStyleModel",
      "state": {}
     },
     "c4a985709ffe47359d94e010b5384691": {
      "model_module": "@jupyter-widgets/controls",
      "model_module_version": "1.5.0",
      "model_name": "ButtonStyleModel",
      "state": {
       "button_color": "WhiteSmoke"
      }
     },
     "c6412f71992045a88c8b81b21f8c3515": {
      "model_module": "@jupyter-widgets/controls",
      "model_module_version": "1.5.0",
      "model_name": "ButtonStyleModel",
      "state": {}
     },
     "c9c79ec6127042199d019b06a38259f6": {
      "model_module": "@jupyter-widgets/controls",
      "model_module_version": "1.5.0",
      "model_name": "VBoxModel",
      "state": {
       "children": [
        "IPY_MODEL_da88ba8cb4c74526a68e2634d47dda22",
        "IPY_MODEL_88677903ca614368ab285bdbb8c9f051",
        "IPY_MODEL_11a7741f5f094c66b4c8eaf49623d838",
        "IPY_MODEL_a804cae3f9fa4382908e306f5aa61d10",
        "IPY_MODEL_ccd81c4d3f4049bdbf5b410bc4a87254",
        "IPY_MODEL_e3f9aff65d23473da63e39a5328a3e22",
        "IPY_MODEL_34f0d3dc50e94cd0897968948d5f9beb",
        "IPY_MODEL_3410ce8419064e7e94f6867384e282ed",
        "IPY_MODEL_456a15f0ee464bbd88747c21cdc35ff5",
        "IPY_MODEL_7f3eea6cf62c46b68762ebf7f3fc4b07",
        "IPY_MODEL_13e5c06c72e84084953a2e6ee17e6361",
        "IPY_MODEL_ba2961c7d3854d7b9705101ef8c43079",
        "IPY_MODEL_c17c05e467c34184bb937d35fc3d727c",
        "IPY_MODEL_39e10e2e8401428bbb714cefd49fdaa3",
        "IPY_MODEL_ec69f92b91f246dc9543111109e9cab2",
        "IPY_MODEL_4faa539d13324cdfa2018260b2526915",
        "IPY_MODEL_46bc1c00055549d7ade9fc1bb3af67eb",
        "IPY_MODEL_6209d92caf774e2b8c8b825451ae77be",
        "IPY_MODEL_d425b897dd7741b5a8bb38c9ec352d63"
       ],
       "layout": "IPY_MODEL_2dd2af0b979a463fb0fe46dae2a99f55"
      }
     },
     "caf84f205ae145f6be74941b80bc07d8": {
      "model_module": "@jupyter-widgets/controls",
      "model_module_version": "1.5.0",
      "model_name": "ButtonModel",
      "state": {
       "description": "yahtzo",
       "layout": "IPY_MODEL_ac1b7360298f47e5853efa90c3e84f83",
       "style": "IPY_MODEL_7e1d4d2ec28e4fbdabc4a6b3d6cf86ad"
      }
     },
     "cc9a8a9fbc7f46a29fe0f2cd187e5921": {
      "model_module": "@jupyter-widgets/controls",
      "model_module_version": "1.5.0",
      "model_name": "ButtonModel",
      "state": {
       "description": "upper section total",
       "layout": "IPY_MODEL_f70b45ca9d8245d68ef4319b662e1c69",
       "style": "IPY_MODEL_1821c88a63594966a2d809aa504482ce"
      }
     },
     "ccd51ed51ef741b3a8242e5782a093e4": {
      "model_module": "@jupyter-widgets/output",
      "model_module_version": "1.0.0",
      "model_name": "OutputModel",
      "state": {
       "layout": "IPY_MODEL_447b2b284c994fefa784cb663f8b90f7"
      }
     },
     "ccd81c4d3f4049bdbf5b410bc4a87254": {
      "model_module": "@jupyter-widgets/output",
      "model_module_version": "1.0.0",
      "model_name": "OutputModel",
      "state": {
       "layout": "IPY_MODEL_55a35ab4187747da9d3c79485e195593",
       "outputs": [
        {
         "name": "stdout",
         "output_type": "stream",
         "text": "\t \t\n"
        }
       ]
      }
     },
     "d225168de6a84097a97ed83aa978ce48": {
      "model_module": "@jupyter-widgets/controls",
      "model_module_version": "1.5.0",
      "model_name": "ButtonStyleModel",
      "state": {}
     },
     "d3770c78dc084684b3295c1b76c95c6a": {
      "model_module": "@jupyter-widgets/base",
      "model_module_version": "1.2.0",
      "model_name": "LayoutModel",
      "state": {}
     },
     "d408634849cb4d9ea332a07e30c06356": {
      "model_module": "@jupyter-widgets/controls",
      "model_module_version": "1.5.0",
      "model_name": "VBoxModel",
      "state": {
       "children": [
        "IPY_MODEL_6587aa7b1480472aba8381511a55b825",
        "IPY_MODEL_4973306e7599440492dda2fc6e56b1ce",
        "IPY_MODEL_b4d33defdd384a54bdbe97dd8942ec57",
        "IPY_MODEL_10b48d52c8b54919a8cec7a414f2777a",
        "IPY_MODEL_27a055ddda114b89a927cb4e97a3bd58",
        "IPY_MODEL_442845fb7a56492fb1da5be40b6b0fe2",
        "IPY_MODEL_500728488dc244f1885e118f9bf796a1",
        "IPY_MODEL_564ae4ced1824fef9a6af1372cc1340d",
        "IPY_MODEL_d6a314b6cf404fcdbc324eba5735e0ce"
       ],
       "layout": "IPY_MODEL_b8035694e974461c900d1191ce7a0849"
      }
     },
     "d425b897dd7741b5a8bb38c9ec352d63": {
      "model_module": "@jupyter-widgets/output",
      "model_module_version": "1.0.0",
      "model_name": "OutputModel",
      "state": {
       "layout": "IPY_MODEL_23067f14185c4bdaa5f5220a206cf9f9"
      }
     },
     "d64fcc2d962c49d5afe4150496423766": {
      "model_module": "@jupyter-widgets/controls",
      "model_module_version": "1.5.0",
      "model_name": "ButtonStyleModel",
      "state": {
       "button_color": "WhiteSmoke"
      }
     },
     "d6a314b6cf404fcdbc324eba5735e0ce": {
      "model_module": "@jupyter-widgets/controls",
      "model_module_version": "1.5.0",
      "model_name": "ButtonModel",
      "state": {
       "description": "Check Hand",
       "layout": "IPY_MODEL_92cc92c0f1364df8a7052bcd86b48970",
       "style": "IPY_MODEL_d64fcc2d962c49d5afe4150496423766"
      }
     },
     "d90ddfeef92547499334eb395cc13b02": {
      "model_module": "@jupyter-widgets/base",
      "model_module_version": "1.2.0",
      "model_name": "LayoutModel",
      "state": {
       "border": "1.0px solid black"
      }
     },
     "d9fbe6db337a45f083ddaf44c7dd7299": {
      "model_module": "@jupyter-widgets/controls",
      "model_module_version": "1.5.0",
      "model_name": "ButtonModel",
      "state": {
       "description": "small straight",
       "layout": "IPY_MODEL_d3770c78dc084684b3295c1b76c95c6a",
       "style": "IPY_MODEL_6fa0d2e8da4c4691b28b54c542ee5439"
      }
     },
     "da5478d67485460abd7b85cd2dc9320d": {
      "model_module": "@jupyter-widgets/controls",
      "model_module_version": "1.5.0",
      "model_name": "ButtonStyleModel",
      "state": {
       "button_color": "WhiteSmoke"
      }
     },
     "da88ba8cb4c74526a68e2634d47dda22": {
      "model_module": "@jupyter-widgets/output",
      "model_module_version": "1.0.0",
      "model_name": "OutputModel",
      "state": {
       "layout": "IPY_MODEL_7b7e1f30d00445e5b5ffd223d127c9d9",
       "outputs": [
        {
         "name": "stdout",
         "output_type": "stream",
         "text": "\t \t\n"
        }
       ]
      }
     },
     "ddec5d27d6514f718b1f9364c8b5c557": {
      "model_module": "@jupyter-widgets/controls",
      "model_module_version": "1.5.0",
      "model_name": "ButtonStyleModel",
      "state": {
       "button_color": "WhiteSmoke"
      }
     },
     "df007422a5864488ac83cddad0614627": {
      "model_module": "@jupyter-widgets/base",
      "model_module_version": "1.2.0",
      "model_name": "LayoutModel",
      "state": {}
     },
     "df0be34c52a148368bb8eb56ee36e628": {
      "model_module": "@jupyter-widgets/base",
      "model_module_version": "1.2.0",
      "model_name": "LayoutModel",
      "state": {
       "border": "1.0px solid black"
      }
     },
     "e178a248ebdf426bbe4ffbf1785c65ae": {
      "model_module": "@jupyter-widgets/base",
      "model_module_version": "1.2.0",
      "model_name": "LayoutModel",
      "state": {}
     },
     "e238f82963614904a1e74feafbdaf9f9": {
      "model_module": "@jupyter-widgets/base",
      "model_module_version": "1.2.0",
      "model_name": "LayoutModel",
      "state": {}
     },
     "e29514035bc94f1796f7c98aa1c88f5b": {
      "model_module": "@jupyter-widgets/controls",
      "model_module_version": "1.5.0",
      "model_name": "ButtonModel",
      "state": {
       "description": "four of a kind",
       "layout": "IPY_MODEL_194ae5ab7f4f417fb734ec9c2e6b96cd",
       "style": "IPY_MODEL_d225168de6a84097a97ed83aa978ce48"
      }
     },
     "e3f9aff65d23473da63e39a5328a3e22": {
      "model_module": "@jupyter-widgets/output",
      "model_module_version": "1.0.0",
      "model_name": "OutputModel",
      "state": {
       "layout": "IPY_MODEL_f5ef0c0644db4b8fb3b139883485078c",
       "outputs": [
        {
         "name": "stdout",
         "output_type": "stream",
         "text": "\t \t\n"
        }
       ]
      }
     },
     "e5feeafd6b72481d90f9497f3b98b2d6": {
      "model_module": "@jupyter-widgets/base",
      "model_module_version": "1.2.0",
      "model_name": "LayoutModel",
      "state": {
       "border": "1.0px solid black"
      }
     },
     "e60cdfef31e54a39b06151df56ad109d": {
      "model_module": "@jupyter-widgets/base",
      "model_module_version": "1.2.0",
      "model_name": "LayoutModel",
      "state": {}
     },
     "e6a2745b69404b6aba90a12d8734016e": {
      "model_module": "@jupyter-widgets/base",
      "model_module_version": "1.2.0",
      "model_name": "LayoutModel",
      "state": {
       "border": "1.0px solid black"
      }
     },
     "e7608bed6cac429e925c55671e1c8f18": {
      "model_module": "@jupyter-widgets/output",
      "model_module_version": "1.0.0",
      "model_name": "OutputModel",
      "state": {
       "layout": "IPY_MODEL_933a08da73d84b2384c6a63221e4760e"
      }
     },
     "e762dce0525547e997be7abe2735bfbd": {
      "model_module": "@jupyter-widgets/base",
      "model_module_version": "1.2.0",
      "model_name": "LayoutModel",
      "state": {
       "border": "0.5px solid black"
      }
     },
     "e7a30c465c7f4792ad8b9e3f2a958f62": {
      "model_module": "@jupyter-widgets/controls",
      "model_module_version": "1.5.0",
      "model_name": "ButtonStyleModel",
      "state": {}
     },
     "ead8729bc41d4e32a29f6ebe794d3f2c": {
      "model_module": "@jupyter-widgets/base",
      "model_module_version": "1.2.0",
      "model_name": "LayoutModel",
      "state": {}
     },
     "ec69f92b91f246dc9543111109e9cab2": {
      "model_module": "@jupyter-widgets/output",
      "model_module_version": "1.0.0",
      "model_name": "OutputModel",
      "state": {
       "layout": "IPY_MODEL_01ab12a33bfa46e3b81d333dbfd7ff7c",
       "outputs": [
        {
         "name": "stdout",
         "output_type": "stream",
         "text": "\t \t\n"
        }
       ]
      }
     },
     "edb6577674c8419eb561c3e5f3969eb7": {
      "model_module": "@jupyter-widgets/base",
      "model_module_version": "1.2.0",
      "model_name": "LayoutModel",
      "state": {}
     },
     "ef172ca88a7f4ddd9968aaa6a0dde60f": {
      "model_module": "@jupyter-widgets/base",
      "model_module_version": "1.2.0",
      "model_name": "LayoutModel",
      "state": {}
     },
     "f36103e11bc94b9fa19781cddb77b5f0": {
      "model_module": "@jupyter-widgets/controls",
      "model_module_version": "1.5.0",
      "model_name": "TextModel",
      "state": {
       "layout": "IPY_MODEL_75a5420972eb4603bac252e2d043eea3",
       "style": "IPY_MODEL_a70dbda252ae425c89dd659b3fdeadaf",
       "value": "\t\t\t\tPlayer 1\t\t\t\t\t"
      }
     },
     "f5b77dc07d284453b8b6c011bcdce4c6": {
      "model_module": "@jupyter-widgets/base",
      "model_module_version": "1.2.0",
      "model_name": "LayoutModel",
      "state": {}
     },
     "f5ef0c0644db4b8fb3b139883485078c": {
      "model_module": "@jupyter-widgets/base",
      "model_module_version": "1.2.0",
      "model_name": "LayoutModel",
      "state": {
       "border": "1.0px solid black"
      }
     },
     "f70b45ca9d8245d68ef4319b662e1c69": {
      "model_module": "@jupyter-widgets/base",
      "model_module_version": "1.2.0",
      "model_name": "LayoutModel",
      "state": {}
     },
     "f9f6de63b51c4a10a0e24fb2a007f2e7": {
      "model_module": "@jupyter-widgets/output",
      "model_module_version": "1.0.0",
      "model_name": "OutputModel",
      "state": {
       "layout": "IPY_MODEL_e6a2745b69404b6aba90a12d8734016e"
      }
     },
     "fc2135b91a344a73baab078a8a2d740e": {
      "model_module": "@jupyter-widgets/base",
      "model_module_version": "1.2.0",
      "model_name": "LayoutModel",
      "state": {
       "border": "1.0px solid black"
      }
     }
    },
    "version_major": 2,
    "version_minor": 0
   }
  }
 },
 "nbformat": 4,
 "nbformat_minor": 5
}
